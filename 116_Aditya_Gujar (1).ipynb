{
  "nbformat": 4,
  "nbformat_minor": 0,
  "metadata": {
    "colab": {
      "provenance": []
    },
    "kernelspec": {
      "name": "python3",
      "display_name": "Python 3"
    },
    "language_info": {
      "name": "python"
    }
  },
  "cells": [
    {
      "cell_type": "code",
      "execution_count": null,
      "metadata": {
        "colab": {
          "base_uri": "https://localhost:8080/"
        },
        "id": "cz1F0cmFQ2Ve",
        "outputId": "8d1c5def-a051-4a8f-adb6-d650c02b64b0"
      },
      "outputs": [
        {
          "output_type": "stream",
          "name": "stdout",
          "text": [
            "a as int 78\n"
          ]
        }
      ],
      "source": [
        "a = 78\n",
        "print(\"a as int\", a)"
      ]
    },
    {
      "cell_type": "code",
      "source": [
        "!git clone https://github.com/aditya-gujar/my_all_EDS_codes_116_A1_of_ADITYA_GUJAR.git"
      ],
      "metadata": {
        "id": "7Ia_nznuzJ8M"
      },
      "execution_count": null,
      "outputs": []
    },
    {
      "cell_type": "code",
      "source": [
        "a=\"adi\"\n",
        "print(type(a))"
      ],
      "metadata": {
        "colab": {
          "base_uri": "https://localhost:8080/"
        },
        "id": "g0s7aK7isBHG",
        "outputId": "805dcc55-fe63-43fc-c236-faef206e7fbb"
      },
      "execution_count": null,
      "outputs": [
        {
          "output_type": "stream",
          "name": "stdout",
          "text": [
            "<class 'str'>\n"
          ]
        }
      ]
    },
    {
      "cell_type": "code",
      "source": [
        "hall = 11.25\n",
        "kit = 18.0\n",
        "liv = 20.0\n",
        "bed = 10.75\n",
        "bath = 9.50\n",
        "\n",
        "house = [['hall',hall],\n",
        "         ['kitchen',kit],\n",
        "         ['living room',liv],\n",
        "         ['bedroom',bed],\n",
        "         ['bathroom',bath]]\n",
        "\n",
        "print (house)"
      ],
      "metadata": {
        "colab": {
          "base_uri": "https://localhost:8080/"
        },
        "id": "YJp_a8L53Y6v",
        "outputId": "5464fab8-4f18-43e1-d535-413a9c7ab8fe"
      },
      "execution_count": null,
      "outputs": [
        {
          "output_type": "stream",
          "name": "stdout",
          "text": [
            "[['hall', 11.25], ['kitchen', 18.0], ['living room', 20.0], ['bedroom', 10.75], ['bathroom', 9.5]]\n"
          ]
        }
      ]
    },
    {
      "cell_type": "code",
      "source": [
        "b = \"Aditya\"\n",
        "print (\"b as char\", b)"
      ],
      "metadata": {
        "colab": {
          "base_uri": "https://localhost:8080/"
        },
        "id": "hqO8rxEJRWc2",
        "outputId": "58cf2a0d-f97b-43cc-d4ae-a3021a646527"
      },
      "execution_count": null,
      "outputs": [
        {
          "output_type": "stream",
          "name": "stdout",
          "text": [
            "b as char Aditya\n"
          ]
        }
      ]
    },
    {
      "cell_type": "code",
      "source": [
        "c = 23.23\n",
        "print (\"c as float\", c)"
      ],
      "metadata": {
        "colab": {
          "base_uri": "https://localhost:8080/"
        },
        "id": "P0dDV-u1Ri2G",
        "outputId": "f941617e-2e22-40fb-8b54-08c79f261417"
      },
      "execution_count": null,
      "outputs": [
        {
          "output_type": "stream",
          "name": "stdout",
          "text": [
            "c as float 23.23\n"
          ]
        }
      ]
    },
    {
      "cell_type": "code",
      "source": [
        "d = 8754368765\n",
        "print (\"d as long int\", d)"
      ],
      "metadata": {
        "colab": {
          "base_uri": "https://localhost:8080/"
        },
        "id": "Z_STOC-lRoAd",
        "outputId": "ec15e259-f71a-491e-94ca-b756a46a248b"
      },
      "execution_count": null,
      "outputs": [
        {
          "output_type": "stream",
          "name": "stdout",
          "text": [
            "d as long int 8754368765\n"
          ]
        }
      ]
    },
    {
      "cell_type": "code",
      "source": [
        "i = 1\n",
        "while i<10:\n",
        "  print (\"Welcome\")\n",
        "  i = i + 1"
      ],
      "metadata": {
        "colab": {
          "base_uri": "https://localhost:8080/"
        },
        "id": "TwnAcXGjcI9p",
        "outputId": "2fa1873e-99b4-4bf7-db0a-71949c1d91cc"
      },
      "execution_count": null,
      "outputs": [
        {
          "output_type": "stream",
          "name": "stdout",
          "text": [
            "Welcome\n",
            "Welcome\n",
            "Welcome\n",
            "Welcome\n",
            "Welcome\n",
            "Welcome\n",
            "Welcome\n",
            "Welcome\n",
            "Welcome\n"
          ]
        }
      ]
    },
    {
      "cell_type": "code",
      "source": [
        "print (\"Enter a value\")\n",
        "num = int(input())\n",
        "sum =  0\n",
        "i = 1\n",
        "while i<=num:\n",
        "  sum = sum+i\n",
        "  i = i + i\n",
        "  print (\"sum\", sum)"
      ],
      "metadata": {
        "colab": {
          "base_uri": "https://localhost:8080/"
        },
        "id": "wGWWSye9cw0Q",
        "outputId": "c3e590a5-1fb9-4e56-cc72-d5c2b10ddb00"
      },
      "execution_count": null,
      "outputs": [
        {
          "output_type": "stream",
          "name": "stdout",
          "text": [
            "Enter a value\n",
            "5\n",
            "sum 1\n",
            "sum 3\n",
            "sum 7\n"
          ]
        }
      ]
    },
    {
      "cell_type": "code",
      "source": [
        "l1 = [\"C++\",\"Java\",\"Python\"]\n",
        "for i in l1:\n",
        "  print(\"Loop refers to book\",i)"
      ],
      "metadata": {
        "colab": {
          "base_uri": "https://localhost:8080/"
        },
        "id": "SKIHOFBEJPpV",
        "outputId": "81372ca3-f6f0-41ff-f829-6889ddf55b91"
      },
      "execution_count": null,
      "outputs": [
        {
          "output_type": "stream",
          "name": "stdout",
          "text": [
            "Loop refers to book C++\n",
            "Loop refers to book Java\n",
            "Loop refers to book Python\n"
          ]
        }
      ]
    },
    {
      "cell_type": "code",
      "source": [
        "def even():\n",
        "  print(\"Enter a number\")\n",
        "  num = int(input())\n",
        "  if(num%2==0):\n",
        "    print(num,\"is even\")\n",
        "  else:\n",
        "    print(num,\"is odd\")\n",
        "even()"
      ],
      "metadata": {
        "colab": {
          "base_uri": "https://localhost:8080/"
        },
        "id": "XNNfUIh8Np6t",
        "outputId": "2e5fe1bf-c4c9-49f0-e1d5-e54732eaab00"
      },
      "execution_count": null,
      "outputs": [
        {
          "output_type": "stream",
          "name": "stdout",
          "text": [
            "Enter a number\n",
            "5\n",
            "5 is odd\n"
          ]
        }
      ]
    },
    {
      "cell_type": "code",
      "source": [
        "def multiple3():\n",
        "  print(\"Enter a number\")\n",
        "  num = int(input())\n",
        "  if(num%3==0):\n",
        "    print(num,\"is multiple of 3\")\n",
        "  else:\n",
        "    print(num,\"is no a multiple of 3\")\n",
        "multiple3()"
      ],
      "metadata": {
        "colab": {
          "base_uri": "https://localhost:8080/"
        },
        "id": "Djihy-QNOUaM",
        "outputId": "fd769ec7-8494-4a9a-ff37-faef2c155122"
      },
      "execution_count": null,
      "outputs": [
        {
          "output_type": "stream",
          "name": "stdout",
          "text": [
            "Enter a number\n",
            "1\n",
            "1 is no a multiple of 3\n"
          ]
        }
      ]
    },
    {
      "cell_type": "code",
      "source": [
        "e = 3.14j\n",
        "print (\"e as complex\", e)"
      ],
      "metadata": {
        "colab": {
          "base_uri": "https://localhost:8080/"
        },
        "id": "amssBmtPSeoH",
        "outputId": "af5af75c-a1b2-4546-e39e-a91536048265"
      },
      "execution_count": null,
      "outputs": [
        {
          "output_type": "stream",
          "name": "stdout",
          "text": [
            "e as complex 3.14j\n"
          ]
        }
      ]
    },
    {
      "cell_type": "code",
      "source": [
        "str1 = \"Welcome to Python\"\n",
        "print (\"str1 as string\", str1)"
      ],
      "metadata": {
        "colab": {
          "base_uri": "https://localhost:8080/"
        },
        "id": "k1_vk-tRSpm2",
        "outputId": "db6c98b9-41f9-4b47-855f-eeaaf31a178d"
      },
      "execution_count": null,
      "outputs": [
        {
          "output_type": "stream",
          "name": "stdout",
          "text": [
            "str1 as string Welcome to Python\n"
          ]
        }
      ]
    },
    {
      "cell_type": "code",
      "source": [
        "l1 = [15,22.87,\"Python\"]\n",
        "print  (\"l1 as list\", l1)"
      ],
      "metadata": {
        "colab": {
          "base_uri": "https://localhost:8080/"
        },
        "id": "a5e0up9fTKlW",
        "outputId": "5f891137-e4c8-4df5-eafc-ab59d553d776"
      },
      "execution_count": null,
      "outputs": [
        {
          "output_type": "stream",
          "name": "stdout",
          "text": [
            "l1 as list [15, 22.87, 'Python']\n"
          ]
        }
      ]
    },
    {
      "cell_type": "code",
      "source": [
        "t1 = (21,\"Python\",112.876)\n",
        "print (\"t1  as tuple\", t1)"
      ],
      "metadata": {
        "colab": {
          "base_uri": "https://localhost:8080/"
        },
        "id": "3Hy4GnI4Tla2",
        "outputId": "0ad8c469-5536-409c-df34-049729b5f90f"
      },
      "execution_count": null,
      "outputs": [
        {
          "output_type": "stream",
          "name": "stdout",
          "text": [
            "t1  as tuple (21, 'Python', 112.876)\n"
          ]
        }
      ]
    },
    {
      "cell_type": "code",
      "source": [
        "d1 = {\"Aditya\" : 116, \"Vipul\" : 120, \"Tanmay\" : 118}\n",
        "print (\"d1 as dict\", d1)"
      ],
      "metadata": {
        "colab": {
          "base_uri": "https://localhost:8080/"
        },
        "id": "kI3JOCRKT6Qe",
        "outputId": "2f62b98b-aec2-4fa9-beff-98d4cc1ab494"
      },
      "execution_count": null,
      "outputs": [
        {
          "output_type": "stream",
          "name": "stdout",
          "text": [
            "d1 as dict {'Aditya': 116, 'Vipul': 120, 'Tanmay': 118}\n"
          ]
        }
      ]
    }
  ]
}